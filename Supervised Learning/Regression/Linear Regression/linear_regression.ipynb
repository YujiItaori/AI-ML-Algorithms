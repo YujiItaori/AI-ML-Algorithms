{
 "cells": [
  {
   "cell_type": "markdown",
   "id": "6ccb4831",
   "metadata": {},
   "source": [
    "### Importing Libraries and Loading Data"
   ]
  },
  {
   "cell_type": "code",
   "execution_count": null,
   "id": "8067b083",
   "metadata": {},
   "outputs": [],
   "source": [
    "import pandas as pd\n",
    "import matplotlib.pyplot as plt\n",
    "import seaborn as sns"
   ]
  },
  {
   "cell_type": "markdown",
   "id": "543e3b26",
   "metadata": {},
   "source": [
    "### Data Information and Summary Statistics"
   ]
  },
  {
   "cell_type": "code",
   "execution_count": null,
   "id": "fab63d4f",
   "metadata": {},
   "outputs": [],
   "source": [
    "customers = pd.read_csv('Ecommerce Customers')"
   ]
  },
  {
   "cell_type": "code",
   "execution_count": null,
   "id": "2daab849",
   "metadata": {},
   "outputs": [],
   "source": [
    "customers.head()"
   ]
  },
  {
   "cell_type": "code",
   "execution_count": null,
   "id": "11780650",
   "metadata": {},
   "outputs": [],
   "source": [
    "customers.info()"
   ]
  },
  {
   "cell_type": "code",
   "execution_count": null,
   "id": "0b262b52",
   "metadata": {},
   "outputs": [],
   "source": [
    "customers.describe()"
   ]
  },
  {
   "cell_type": "markdown",
   "id": "bcb36b01",
   "metadata": {},
   "source": [
    "### Visualizing Relationships Between Features and Target\n"
   ]
  },
  {
   "cell_type": "code",
   "execution_count": null,
   "id": "091a3001",
   "metadata": {},
   "outputs": [],
   "source": [
    "sns.jointplot(x='Time on Website', y='Yearly Amount Spent', data=customers, alpha=0.5)"
   ]
  },
  {
   "cell_type": "code",
   "execution_count": null,
   "id": "c36a944a",
   "metadata": {},
   "outputs": [],
   "source": [
    "sns.jointplot(x='Time on App', y='Yearly Amount Spent', data=customers, alpha=0.5)"
   ]
  },
  {
   "cell_type": "code",
   "execution_count": null,
   "id": "78c4ae16",
   "metadata": {},
   "outputs": [],
   "source": [
    "sns.pairplot(customers, \n",
    "             kind='scatter', \n",
    "             plot_kws={'alpha':0.4}, \n",
    "             diag_kws={'alpha':0.55, 'bins':40})"
   ]
  },
  {
   "cell_type": "markdown",
   "id": "4094bd37",
   "metadata": {},
   "source": [
    "### Length of Membership vs Yearly Amount Spent"
   ]
  },
  {
   "cell_type": "code",
   "execution_count": null,
   "id": "d343a80a",
   "metadata": {},
   "outputs": [],
   "source": [
    "sns.lmplot(x='Length of Membership', \n",
    "           y='Yearly Amount Spent', \n",
    "           data=customers,\n",
    "           scatter_kws={'alpha':0.3})"
   ]
  },
  {
   "cell_type": "markdown",
   "id": "ff1f8b39",
   "metadata": {},
   "source": [
    "# Splitting the data\n",
    "X are the predictores, and y is the output. What we want to do is create a model that will take in the values in the X variable and predict y with a linear regression algorithm. We will use the SciKit Learn library to create the model."
   ]
  },
  {
   "cell_type": "code",
   "execution_count": null,
   "id": "a843401f",
   "metadata": {},
   "outputs": [],
   "source": [
    "from sklearn.model_selection import train_test_split"
   ]
  },
  {
   "cell_type": "code",
   "execution_count": null,
   "id": "1542b2ac",
   "metadata": {},
   "outputs": [],
   "source": [
    "customers.info()"
   ]
  },
  {
   "cell_type": "code",
   "execution_count": null,
   "id": "43fe0b16",
   "metadata": {},
   "outputs": [],
   "source": [
    "X = customers[['Avg. Session Length', 'Time on App', 'Time on Website', 'Length of Membership']]\n",
    "y = customers['Yearly Amount Spent']"
   ]
  },
  {
   "cell_type": "code",
   "execution_count": null,
   "id": "db13d1f0",
   "metadata": {},
   "outputs": [],
   "source": [
    "X.head()\n",
    "y.head()"
   ]
  },
  {
   "cell_type": "code",
   "execution_count": null,
   "id": "73090c94",
   "metadata": {},
   "outputs": [],
   "source": [
    "X_train, X_test, y_train, y_test = train_test_split(X,y,test_size=0.3, random_state=42)\n"
   ]
  },
  {
   "cell_type": "markdown",
   "id": "5dbf96ff",
   "metadata": {},
   "source": [
    "## Training the Model with multivariable regression using Scikit Learn\n",
    "\n",
    "In this section, we create the model and feed the training data to it. This model will tell us which input has the biggest impact in the output (yearly expenditure). As the plots suggested, we find that the most important coefficient is that of the \"Length of Membership\" predictor, followed by the 'Time on App' and the 'Avg. Session Length'. The time on website does not seem to be an important factor to the amount a customer spends per year."
   ]
  },
  {
   "cell_type": "code",
   "execution_count": null,
   "id": "d0eb1fa9",
   "metadata": {},
   "outputs": [],
   "source": [
    "from sklearn.linear_model import LinearRegression\n",
    "import statsmodels.api as sm\n"
   ]
  },
  {
   "cell_type": "code",
   "execution_count": null,
   "id": "372470b5",
   "metadata": {},
   "outputs": [],
   "source": [
    "lm = LinearRegression()\n"
   ]
  },
  {
   "cell_type": "code",
   "execution_count": null,
   "id": "8733e10f",
   "metadata": {},
   "outputs": [],
   "source": [
    "lm.fit(X_train, y_train)\n"
   ]
  },
  {
   "cell_type": "code",
   "execution_count": null,
   "id": "5a08e41c",
   "metadata": {},
   "outputs": [],
   "source": [
    "# the coefficients\n",
    "lm.coef_"
   ]
  },
  {
   "cell_type": "code",
   "execution_count": null,
   "id": "ec36516b",
   "metadata": {},
   "outputs": [],
   "source": [
    "# r squared\n",
    "lm.score(X, y)"
   ]
  },
  {
   "cell_type": "code",
   "execution_count": null,
   "id": "c84c8b0c",
   "metadata": {},
   "outputs": [],
   "source": [
    "# The coefficients in a dataframe\n",
    "cdf = pd.DataFrame(lm.coef_,X.columns,columns=['Coef'])\n",
    "print(cdf)"
   ]
  },
  {
   "cell_type": "markdown",
   "id": "e93f1a8d",
   "metadata": {},
   "source": [
    "### Training the model with multivariable regression using OLS\n",
    "\n",
    "Allows us to get more details about the moel"
   ]
  },
  {
   "cell_type": "code",
   "execution_count": null,
   "id": "e875af2f",
   "metadata": {},
   "outputs": [],
   "source": [
    "X = sm.add_constant(X_train)\n",
    "model = sm.OLS(y_train, X)\n",
    "model_fit = model.fit()\n",
    "print(model_fit.summary())"
   ]
  },
  {
   "cell_type": "markdown",
   "id": "d22432e6",
   "metadata": {},
   "source": [
    "### Predicting Test Data\n",
    "\n",
    "Now that the model is trained, we should be able to use it to make our predictions and evaluate our model. The scatter plot below plots the actual y values to the model's predictions. The model seems to behave accurately."
   ]
  },
  {
   "cell_type": "code",
   "execution_count": null,
   "id": "f3da5012",
   "metadata": {},
   "outputs": [],
   "source": [
    "predictions = lm.predict(X_test)"
   ]
  },
  {
   "cell_type": "code",
   "execution_count": null,
   "id": "0a5aaf52",
   "metadata": {},
   "outputs": [],
   "source": [
    "sns.scatterplot(x=y_test, y=predictions)\n",
    "plt.ylabel('Predictions')\n",
    "plt.title('Yearly Amount Spent vs. Model Predictions')"
   ]
  },
  {
   "cell_type": "markdown",
   "id": "d26c1f3c",
   "metadata": {},
   "source": [
    "### Evaluation of the model"
   ]
  },
  {
   "cell_type": "code",
   "execution_count": null,
   "id": "ef00dfc9",
   "metadata": {},
   "outputs": [],
   "source": [
    "from sklearn.metrics import mean_squared_error, mean_absolute_error\n",
    "import math"
   ]
  },
  {
   "cell_type": "code",
   "execution_count": null,
   "id": "6f340d2c",
   "metadata": {},
   "outputs": [],
   "source": [
    "print('Mean Absolute Error:',mean_absolute_error(y_test, predictions))\n",
    "print('Mean Squared Error:',mean_squared_error(y_test, predictions))\n",
    "print('Root Mean Squared Error:',math.sqrt(mean_squared_error(y_test, predictions)))"
   ]
  },
  {
   "cell_type": "markdown",
   "id": "50ac26b0",
   "metadata": {},
   "source": [
    "### Residuals\n",
    "\n",
    "Distribution plot of the residuals of the model's predictions. They should be normally distributed."
   ]
  },
  {
   "cell_type": "code",
   "execution_count": null,
   "id": "9cf88d92",
   "metadata": {},
   "outputs": [],
   "source": [
    "residuals = y_test-predictions\n",
    "sns.distplot(residuals, bins=30)"
   ]
  },
  {
   "cell_type": "code",
   "execution_count": null,
   "id": "d1ea32b9",
   "metadata": {},
   "outputs": [],
   "source": [
    "import pylab \n",
    "import scipy.stats as stats\n",
    "\n",
    "stats.probplot(residuals, dist=\"norm\", plot=pylab)\n",
    "pylab.show()"
   ]
  },
  {
   "cell_type": "markdown",
   "id": "e613ebab",
   "metadata": {},
   "source": [
    "### Conclusion\n",
    "\n",
    "This analysis reveals that the length of membership is the most influential factor in predicting the yearly amount spent by customers. While intuitively, time spent on an app or website might seem important, the model indicates that time on the mobile app has a significantly stronger impact than time spent on the desktop website. In fact, the time spent on the desktop site shows little to no correlation with customer spending.\n",
    "\n",
    "There are two potential interpretations of these findings. One is that the desktop website may require improvements to better engage customers and convert visits into sales. Alternatively, it may reflect a broader trend where customers are more influenced by mobile app experiences than desktop websites. This suggests that marketing and development efforts could be more effectively focused on enhancing the mobile app experience to drive revenue growth.\n",
    "\n",
    "While the data provides valuable insights, interpreting these results benefits from domain expertise in online marketing strategies. Nonetheless, the model robustly quantifies the relative importance of predictors, offering a solid foundation for strategic decisions."
   ]
  }
 ],
 "metadata": {
  "kernelspec": {
   "display_name": "ai-ml-algorithms",
   "language": "python",
   "name": "python3"
  },
  "language_info": {
   "codemirror_mode": {
    "name": "ipython",
    "version": 3
   },
   "file_extension": ".py",
   "mimetype": "text/x-python",
   "name": "python",
   "nbconvert_exporter": "python",
   "pygments_lexer": "ipython3",
   "version": "3.11.9"
  }
 },
 "nbformat": 4,
 "nbformat_minor": 5
}
