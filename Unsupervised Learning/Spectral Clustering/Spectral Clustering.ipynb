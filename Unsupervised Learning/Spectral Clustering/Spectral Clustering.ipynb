{
 "cells": [
  {
   "cell_type": "markdown",
   "id": "9bc02dce",
   "metadata": {},
   "source": [
    "# Spectral Clustering Implementation in Python"
   ]
  },
  {
   "cell_type": "markdown",
   "id": "755d7973",
   "metadata": {},
   "source": [
    "### Import necessary libraries\n"
   ]
  },
  {
   "cell_type": "code",
   "execution_count": 1,
   "id": "17e3c576",
   "metadata": {},
   "outputs": [],
   "source": [
    "import numpy as np\n",
    "import matplotlib.pyplot as plt\n",
    "from sklearn.cluster import SpectralClustering\n",
    "from skimage import io\n",
    "from skimage.color import rgb2gray\n",
    "from skimage.transform import resize"
   ]
  },
  {
   "cell_type": "markdown",
   "id": "99d9d1ae",
   "metadata": {},
   "source": [
    "### Load and preprocess the image"
   ]
  },
  {
   "cell_type": "code",
   "execution_count": 7,
   "id": "45ef1e5a",
   "metadata": {},
   "outputs": [],
   "source": [
    "# Load the image from local file 'cat.png'\n",
    "image = io.imread('astronaut.png')\n",
    "\n",
    "# Resize the image for faster computation, maintaining the aspect ratio\n",
    "image_resized = resize(image, (200, 200))  # Resize to 200x200 pixels\n",
    "\n",
    "# Remove alpha channel if present (keep only first 3 channels)\n",
    "if image_resized.shape[2] == 4:\n",
    "    image_resized = image_resized[:, :, :3]\n",
    "\n",
    "# Convert the image to grayscale for simplicity in clustering\n",
    "gray_image = rgb2gray(image_resized)"
   ]
  },
  {
   "cell_type": "code",
   "execution_count": 8,
   "id": "f42019c3",
   "metadata": {},
   "outputs": [],
   "source": [
    "# Step 2: Reshape the image data\n",
    "# Reshape the image into a 2D array where each pixel is a data point\n",
    "pixels = gray_image.reshape(-1, 1)\n",
    "\n",
    "# Step 3: Apply Spectral Clustering\n",
    "# Initialize SpectralClustering with number of clusters (segments) and affinity method\n",
    "n_clusters = 4  # Define number of segments (you can change it as needed)\n",
    "spectral_model = SpectralClustering(n_clusters=n_clusters, affinity='nearest_neighbors', n_neighbors=10)\n"
   ]
  },
  {
   "cell_type": "code",
   "execution_count": 9,
   "id": "116f33a4",
   "metadata": {},
   "outputs": [
    {
     "name": "stderr",
     "output_type": "stream",
     "text": [
      "c:\\Users\\use\\Desktop\\ML\\Projects\\AI-ML-Algorithms\\ai-ml-algorithms\\Lib\\site-packages\\sklearn\\manifold\\_spectral_embedding.py:273: UserWarning: Graph is not fully connected, spectral embedding may not work as expected.\n",
      "  warnings.warn(\n"
     ]
    }
   ],
   "source": [
    "# Step 3: Apply Spectral Clustering with updated number of neighbors\n",
    "from sklearn.cluster import SpectralClustering\n",
    "\n",
    "spectral_model = SpectralClustering(n_clusters=n_clusters, affinity='nearest_neighbors', n_neighbors=5)\n",
    "\n",
    "# Fit the model and predict the cluster labels for each pixel\n",
    "labels = spectral_model.fit_predict(pixels)\n",
    "\n",
    "# Step 4: Reshape the labels back to the image shape\n",
    "segmented_image = labels.reshape(gray_image.shape)\n"
   ]
  },
  {
   "cell_type": "code",
   "execution_count": null,
   "id": "f237971f",
   "metadata": {},
   "outputs": [],
   "source": [
    "# Step 5: Visualize the results\n",
    "# Display the original and segmented images side by side\n",
    "plt.figure(figsize=(10, 5))\n",
    "\n",
    "# Show the original image\n",
    "plt.subplot(1, 2, 1)\n",
    "plt.imshow(gray_image, cmap='gray')\n",
    "plt.title('Original Grayscale Image')\n",
    "plt.axis('off')\n",
    "\n",
    "# Show the segmented image with the clusters\n",
    "plt.subplot(1, 2, 2)\n",
    "plt.imshow(segmented_image, cmap='nipy_spectral')\n",
    "plt.title('Segmented Image')\n",
    "plt.axis('off')\n",
    "\n",
    "plt.show()"
   ]
  },
  {
   "cell_type": "markdown",
   "id": "c07a4e3d",
   "metadata": {},
   "source": [
    "### Conclusion\n",
    "\n",
    "The Spectral Clustering analysis successfully demonstrated an unsupervised image segmentation approach that leverages graph-based methods to partition data into distinct clusters. Starting with a grayscale image resized to 200×200 pixels, each pixel was treated as a data point in a one-dimensional feature space, representing its intensity value.\n",
    "\n",
    "Using **Spectral Clustering with 4 clusters and nearest-neighbors affinity**, the algorithm transformed the pixel data into a graph representation, where each pixel is a node connected to its closest neighbors. The clustering then utilized the graph Laplacian to find an embedding that highlights the intrinsic structure of the data, allowing pixels with similar intensity patterns to group together.\n",
    "\n",
    "Visualizations before and after applying Spectral Clustering show that regions of the image with similar intensity values were effectively segmented, demonstrating successful partitioning of the image into meaningful clusters. This method is particularly effective for images where the cluster structure is not linearly separable, as it considers the global similarity between points through the graph representation.\n",
    "\n",
    "Key advantages of Spectral Clustering observed in this example include:\n",
    "\n",
    "* Ability to segment data that is not easily separable in the original feature space.\n",
    "* Flexibility in capturing complex and non-convex cluster structures.\n",
    "* Intuitive results that preserve local similarities and image patterns.\n",
    "\n",
    "However, it is important to note that the choice of parameters—such as the number of clusters and the number of neighbors—significantly affects the segmentation outcome. Choosing too few clusters may merge distinct regions, while too many may over-segment the image.\n",
    "\n",
    "In summary, Spectral Clustering provides a powerful non-linear clustering approach for image segmentation tasks, enabling the discovery of complex structures in image data and supporting applications in computer vision, pattern recognition, and image analysis."
   ]
  }
 ],
 "metadata": {
  "kernelspec": {
   "display_name": "ai-ml-algorithms",
   "language": "python",
   "name": "python3"
  },
  "language_info": {
   "codemirror_mode": {
    "name": "ipython",
    "version": 3
   },
   "file_extension": ".py",
   "mimetype": "text/x-python",
   "name": "python",
   "nbconvert_exporter": "python",
   "pygments_lexer": "ipython3",
   "version": "3.11.9"
  }
 },
 "nbformat": 4,
 "nbformat_minor": 5
}
