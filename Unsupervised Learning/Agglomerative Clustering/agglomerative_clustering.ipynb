{
 "cells": [
  {
   "cell_type": "markdown",
   "id": "f429cfd4",
   "metadata": {},
   "source": [
    "# Agglomerative Clustering"
   ]
  },
  {
   "cell_type": "markdown",
   "id": "676b38b3",
   "metadata": {},
   "source": [
    "### Load Libraries"
   ]
  },
  {
   "cell_type": "code",
   "execution_count": 1,
   "id": "7d3cdb63",
   "metadata": {},
   "outputs": [],
   "source": [
    "import pandas as pd\n",
    "from matplotlib import pyplot as plt\n",
    "from mpl_toolkits.mplot3d import Axes3D\n",
    "import matplotlib.patches as mpatches\n",
    "from sklearn.cluster import AgglomerativeClustering\n",
    "from matplotlib.colors import ListedColormap\n",
    "from scipy.cluster.hierarchy import dendrogram, linkage\n",
    "from matplotlib import pyplot as plt"
   ]
  },
  {
   "cell_type": "markdown",
   "id": "6122d361",
   "metadata": {},
   "source": [
    "### Load Dataset"
   ]
  },
  {
   "cell_type": "code",
   "execution_count": 2,
   "id": "603ac704",
   "metadata": {},
   "outputs": [
    {
     "data": {
      "text/html": [
       "<div>\n",
       "<style scoped>\n",
       "    .dataframe tbody tr th:only-of-type {\n",
       "        vertical-align: middle;\n",
       "    }\n",
       "\n",
       "    .dataframe tbody tr th {\n",
       "        vertical-align: top;\n",
       "    }\n",
       "\n",
       "    .dataframe thead th {\n",
       "        text-align: right;\n",
       "    }\n",
       "</style>\n",
       "<table border=\"1\" class=\"dataframe\">\n",
       "  <thead>\n",
       "    <tr style=\"text-align: right;\">\n",
       "      <th></th>\n",
       "      <th>Id</th>\n",
       "      <th>SepalLengthCm</th>\n",
       "      <th>SepalWidthCm</th>\n",
       "      <th>PetalLengthCm</th>\n",
       "      <th>PetalWidthCm</th>\n",
       "      <th>Species</th>\n",
       "    </tr>\n",
       "  </thead>\n",
       "  <tbody>\n",
       "    <tr>\n",
       "      <th>0</th>\n",
       "      <td>1</td>\n",
       "      <td>5.1</td>\n",
       "      <td>3.5</td>\n",
       "      <td>1.4</td>\n",
       "      <td>0.2</td>\n",
       "      <td>Iris-setosa</td>\n",
       "    </tr>\n",
       "    <tr>\n",
       "      <th>1</th>\n",
       "      <td>2</td>\n",
       "      <td>4.9</td>\n",
       "      <td>3.0</td>\n",
       "      <td>1.4</td>\n",
       "      <td>0.2</td>\n",
       "      <td>Iris-setosa</td>\n",
       "    </tr>\n",
       "    <tr>\n",
       "      <th>2</th>\n",
       "      <td>3</td>\n",
       "      <td>4.7</td>\n",
       "      <td>3.2</td>\n",
       "      <td>1.3</td>\n",
       "      <td>0.2</td>\n",
       "      <td>Iris-setosa</td>\n",
       "    </tr>\n",
       "    <tr>\n",
       "      <th>3</th>\n",
       "      <td>4</td>\n",
       "      <td>4.6</td>\n",
       "      <td>3.1</td>\n",
       "      <td>1.5</td>\n",
       "      <td>0.2</td>\n",
       "      <td>Iris-setosa</td>\n",
       "    </tr>\n",
       "    <tr>\n",
       "      <th>4</th>\n",
       "      <td>5</td>\n",
       "      <td>5.0</td>\n",
       "      <td>3.6</td>\n",
       "      <td>1.4</td>\n",
       "      <td>0.2</td>\n",
       "      <td>Iris-setosa</td>\n",
       "    </tr>\n",
       "  </tbody>\n",
       "</table>\n",
       "</div>"
      ],
      "text/plain": [
       "   Id  SepalLengthCm  SepalWidthCm  PetalLengthCm  PetalWidthCm      Species\n",
       "0   1            5.1           3.5            1.4           0.2  Iris-setosa\n",
       "1   2            4.9           3.0            1.4           0.2  Iris-setosa\n",
       "2   3            4.7           3.2            1.3           0.2  Iris-setosa\n",
       "3   4            4.6           3.1            1.5           0.2  Iris-setosa\n",
       "4   5            5.0           3.6            1.4           0.2  Iris-setosa"
      ]
     },
     "execution_count": 2,
     "metadata": {},
     "output_type": "execute_result"
    }
   ],
   "source": [
    "# save data under variable name Iris_data\n",
    "Iris_data = pd.read_csv(\"IrisData.csv\")\n",
    "\n",
    "# display first few rows of data\n",
    "Iris_data.head()"
   ]
  },
  {
   "cell_type": "code",
   "execution_count": 3,
   "id": "1b1c994a",
   "metadata": {},
   "outputs": [
    {
     "data": {
      "text/plain": [
       "array(['Iris-setosa', 'Iris-versicolor', 'Iris-virginica'], dtype=object)"
      ]
     },
     "execution_count": 3,
     "metadata": {},
     "output_type": "execute_result"
    }
   ],
   "source": [
    "# See species of plants\n",
    "Iris_data.Species.unique()"
   ]
  },
  {
   "cell_type": "code",
   "execution_count": 4,
   "id": "bd0c6223",
   "metadata": {},
   "outputs": [
    {
     "data": {
      "text/plain": [
       "(150, 3)"
      ]
     },
     "execution_count": 4,
     "metadata": {},
     "output_type": "execute_result"
    }
   ],
   "source": [
    "X = Iris_data[[\"SepalLengthCm\",\"PetalLengthCm\",\"PetalWidthCm\"]]\n",
    "\n",
    "# Display shape of data (no. rows, no.columns)\n",
    "X.shape"
   ]
  },
  {
   "cell_type": "markdown",
   "id": "2e778fdb",
   "metadata": {},
   "source": [
    "### Visualize the dataset"
   ]
  },
  {
   "cell_type": "code",
   "execution_count": 5,
   "id": "27e7ede7",
   "metadata": {},
   "outputs": [
    {
     "name": "stderr",
     "output_type": "stream",
     "text": [
      "C:\\Users\\use\\AppData\\Local\\Temp\\ipykernel_2276\\3567598174.py:16: UserWarning: No data for colormapping provided via 'c'. Parameters 'cmap' will be ignored\n",
      "  ax.scatter(x, y, z, s=40, c= Iris_data[\"Species\"].map(colors) ,cmap = colors, marker='o', alpha=0.5)\n"
     ]
    },
    {
     "data": {
      "text/plain": [
       "Text(0.5, 0, 'PetalWidthCm')"
      ]
     },
     "execution_count": 5,
     "metadata": {},
     "output_type": "execute_result"
    },
    {
     "data": {
      "image/png": "[encoded data removed]",
      "text/plain": [
       "<Figure size 500x500 with 1 Axes>"
      ]
     },
     "metadata": {},
     "output_type": "display_data"
    }
   ],
   "source": [
    "# variables\n",
    "x = X.iloc[:,0]\n",
    "y = X.iloc[:,1]\n",
    "z = X.iloc[:,2]\n",
    "\n",
    "# axes instance\n",
    "fig = plt.figure(figsize=(5,5))\n",
    "ax = Axes3D(fig)\n",
    "\n",
    "    \n",
    "# color-code species\n",
    "colors = {'Iris-setosa':'orange', 'Iris-versicolor':'grey', 'Iris-virginica':'lightblue'}    \n",
    "\n",
    "\n",
    "# plot\n",
    "ax.scatter(x, y, z, s=40, c= Iris_data[\"Species\"].map(colors) ,cmap = colors, marker='o', alpha=0.5)\n",
    "\n",
    "#legend\n",
    "orange_patch = mpatches.Patch(color='orange', label='Iris-setosa')\n",
    "grey_patch = mpatches.Patch(color='grey', label='Iris-versicolor')\n",
    "lightblue_patch = mpatches.Patch(color='lightblue', label='Iris-virginica')\n",
    "ax.legend(handles=[orange_patch, grey_patch, lightblue_patch ])\n",
    "\n",
    "#title\n",
    "plt.title(\"Iris plants\")\n",
    "\n",
    "# axes labels\n",
    "ax.set_xlabel('SepalLengthCm')\n",
    "ax.set_ylabel('PetalLengthCm')\n",
    "ax.set_zlabel('PetalWidthCm')"
   ]
  },
  {
   "cell_type": "code",
   "execution_count": 6,
   "id": "9263dfaf",
   "metadata": {},
   "outputs": [
    {
     "data": {
      "text/plain": [
       "array([1, 1, 1, 1, 1, 1, 1, 1, 1, 1, 1, 1, 1, 1, 1, 1, 1, 1, 1, 1, 1, 1,\n",
       "       1, 1, 1, 1, 1, 1, 1, 1, 1, 1, 1, 1, 1, 1, 1, 1, 1, 1, 1, 1, 1, 1,\n",
       "       1, 1, 1, 1, 1, 1, 0, 0, 0, 0, 0, 0, 0, 0, 0, 0, 0, 0, 0, 0, 0, 0,\n",
       "       0, 0, 0, 0, 0, 0, 0, 0, 0, 0, 0, 0, 0, 0, 0, 0, 0, 0, 0, 0, 0, 0,\n",
       "       0, 0, 0, 0, 0, 0, 0, 0, 0, 0, 0, 0, 2, 0, 2, 2, 2, 2, 0, 2, 2, 2,\n",
       "       2, 2, 2, 0, 0, 2, 2, 2, 2, 0, 2, 0, 2, 0, 2, 2, 0, 0, 2, 2, 2, 2,\n",
       "       2, 0, 2, 2, 2, 2, 0, 2, 2, 2, 0, 2, 2, 2, 0, 2, 2, 0], dtype=int64)"
      ]
     },
     "execution_count": 6,
     "metadata": {},
     "output_type": "execute_result"
    }
   ],
   "source": [
    "hc = AgglomerativeClustering(n_clusters=3, linkage=\"ward\")\n",
    "hc = hc.fit(X)\n",
    "hc.labels_"
   ]
  },
  {
   "cell_type": "code",
   "execution_count": 7,
   "id": "ef792b1a",
   "metadata": {},
   "outputs": [
    {
     "data": {
      "text/plain": [
       "Text(0.5, 0, 'PetalWidthCm')"
      ]
     },
     "execution_count": 7,
     "metadata": {},
     "output_type": "execute_result"
    },
    {
     "data": {
      "image/png": "[encoded data removed]",
      "text/plain": [
       "<Figure size 500x500 with 1 Axes>"
      ]
     },
     "metadata": {},
     "output_type": "display_data"
    }
   ],
   "source": [
    "# create a color map for each cluster\n",
    "cmap = ListedColormap([\"orangered\", \"lightgreen\", \"deepskyblue\"])\n",
    "\n",
    "# variables\n",
    "x = X.iloc[:,0] # SepalLengthCm\n",
    "y = X.iloc[:,1] # PetalLengthCm\n",
    "z = X.iloc[:,2] # PetalWidthCm\n",
    "\n",
    "# axes instance\n",
    "fig = plt.figure(figsize=(5,5))\n",
    "ax = Axes3D(fig)\n",
    "\n",
    "# plot\n",
    "sc = ax.scatter(x, y, z, s=40, c = hc.labels_, cmap = cmap, marker='o', alpha=1)\n",
    "\n",
    "# legend\n",
    "plt.legend(*sc.legend_elements())\n",
    "\n",
    "#title\n",
    "plt.title(\"Hierarchical Clustering\")\n",
    "\n",
    "# axes labels\n",
    "ax.set_xlabel('SepalLengthCm')\n",
    "ax.set_ylabel('PetalLengthCm')\n",
    "ax.set_zlabel('PetalWidthCm')"
   ]
  },
  {
   "cell_type": "code",
   "execution_count": 8,
   "id": "a59e943d",
   "metadata": {},
   "outputs": [
    {
     "data": {
      "image/png": "[encoded data removed]",
      "text/plain": [
       "<Figure size 700x500 with 1 Axes>"
      ]
     },
     "metadata": {},
     "output_type": "display_data"
    }
   ],
   "source": [
    "# define linkage \n",
    "linked = linkage(X.sample(n=20, random_state=1), 'ward')\n",
    "\n",
    "# set figure size\n",
    "plt.figure(figsize=(7, 5))\n",
    "\n",
    "# dendrogram function \n",
    "dendrogram(linked,\n",
    "            orientation='top')\n",
    "\n",
    "# axis labels\n",
    "plt.title(\"Dendrogram\")\n",
    "plt.ylabel(\"Dissimalirty\")\n",
    "plt.xlabel(\"Data points\")\n",
    "\n",
    "plt.show()"
   ]
  }
 ],
 "metadata": {
  "kernelspec": {
   "display_name": "ai-ml-algorithms",
   "language": "python",
   "name": "python3"
  },
  "language_info": {
   "codemirror_mode": {
    "name": "ipython",
    "version": 3
   },
   "file_extension": ".py",
   "mimetype": "text/x-python",
   "name": "python",
   "nbconvert_exporter": "python",
   "pygments_lexer": "ipython3",
   "version": "3.11.9"
  }
 },
 "nbformat": 4,
 "nbformat_minor": 5
}
