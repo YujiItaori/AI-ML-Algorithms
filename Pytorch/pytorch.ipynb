{
 "cells": [
  {
   "cell_type": "markdown",
   "id": "625eba71",
   "metadata": {},
   "source": [
    "# Linear Regression on Boston Housing Dataset using PyTorch\n",
    "\n",
    "This notebook demonstrates step-by-step how to perform linear regression using PyTorch on the Boston Housing dataset."
   ]
  },
  {
   "cell_type": "markdown",
   "id": "fbd3f407",
   "metadata": {},
   "source": [
    "### Import Libraries and Load Dataset"
   ]
  },
  {
   "cell_type": "code",
   "execution_count": 102,
   "id": "4579130c",
   "metadata": {},
   "outputs": [
    {
     "data": {
      "text/html": [
       "<div>\n",
       "<style scoped>\n",
       "    .dataframe tbody tr th:only-of-type {\n",
       "        vertical-align: middle;\n",
       "    }\n",
       "\n",
       "    .dataframe tbody tr th {\n",
       "        vertical-align: top;\n",
       "    }\n",
       "\n",
       "    .dataframe thead th {\n",
       "        text-align: right;\n",
       "    }\n",
       "</style>\n",
       "<table border=\"1\" class=\"dataframe\">\n",
       "  <thead>\n",
       "    <tr style=\"text-align: right;\">\n",
       "      <th></th>\n",
       "      <th>crim</th>\n",
       "      <th>zn</th>\n",
       "      <th>indus</th>\n",
       "      <th>chas</th>\n",
       "      <th>nox</th>\n",
       "      <th>rm</th>\n",
       "      <th>age</th>\n",
       "      <th>dis</th>\n",
       "      <th>rad</th>\n",
       "      <th>tax</th>\n",
       "      <th>ptratio</th>\n",
       "      <th>b</th>\n",
       "      <th>lstat</th>\n",
       "      <th>medv</th>\n",
       "    </tr>\n",
       "  </thead>\n",
       "  <tbody>\n",
       "    <tr>\n",
       "      <th>0</th>\n",
       "      <td>0.00632</td>\n",
       "      <td>18.0</td>\n",
       "      <td>2.31</td>\n",
       "      <td>0</td>\n",
       "      <td>0.538</td>\n",
       "      <td>6.575</td>\n",
       "      <td>65.2</td>\n",
       "      <td>4.0900</td>\n",
       "      <td>1</td>\n",
       "      <td>296</td>\n",
       "      <td>15.3</td>\n",
       "      <td>396.90</td>\n",
       "      <td>4.98</td>\n",
       "      <td>24.0</td>\n",
       "    </tr>\n",
       "    <tr>\n",
       "      <th>1</th>\n",
       "      <td>0.02731</td>\n",
       "      <td>0.0</td>\n",
       "      <td>7.07</td>\n",
       "      <td>0</td>\n",
       "      <td>0.469</td>\n",
       "      <td>6.421</td>\n",
       "      <td>78.9</td>\n",
       "      <td>4.9671</td>\n",
       "      <td>2</td>\n",
       "      <td>242</td>\n",
       "      <td>17.8</td>\n",
       "      <td>396.90</td>\n",
       "      <td>9.14</td>\n",
       "      <td>21.6</td>\n",
       "    </tr>\n",
       "    <tr>\n",
       "      <th>2</th>\n",
       "      <td>0.02729</td>\n",
       "      <td>0.0</td>\n",
       "      <td>7.07</td>\n",
       "      <td>0</td>\n",
       "      <td>0.469</td>\n",
       "      <td>7.185</td>\n",
       "      <td>61.1</td>\n",
       "      <td>4.9671</td>\n",
       "      <td>2</td>\n",
       "      <td>242</td>\n",
       "      <td>17.8</td>\n",
       "      <td>392.83</td>\n",
       "      <td>4.03</td>\n",
       "      <td>34.7</td>\n",
       "    </tr>\n",
       "    <tr>\n",
       "      <th>3</th>\n",
       "      <td>0.03237</td>\n",
       "      <td>0.0</td>\n",
       "      <td>2.18</td>\n",
       "      <td>0</td>\n",
       "      <td>0.458</td>\n",
       "      <td>6.998</td>\n",
       "      <td>45.8</td>\n",
       "      <td>6.0622</td>\n",
       "      <td>3</td>\n",
       "      <td>222</td>\n",
       "      <td>18.7</td>\n",
       "      <td>394.63</td>\n",
       "      <td>2.94</td>\n",
       "      <td>33.4</td>\n",
       "    </tr>\n",
       "    <tr>\n",
       "      <th>4</th>\n",
       "      <td>0.06905</td>\n",
       "      <td>0.0</td>\n",
       "      <td>2.18</td>\n",
       "      <td>0</td>\n",
       "      <td>0.458</td>\n",
       "      <td>7.147</td>\n",
       "      <td>54.2</td>\n",
       "      <td>6.0622</td>\n",
       "      <td>3</td>\n",
       "      <td>222</td>\n",
       "      <td>18.7</td>\n",
       "      <td>396.90</td>\n",
       "      <td>5.33</td>\n",
       "      <td>36.2</td>\n",
       "    </tr>\n",
       "  </tbody>\n",
       "</table>\n",
       "</div>"
      ],
      "text/plain": [
       "      crim    zn  indus  chas    nox     rm   age     dis  rad  tax  ptratio  \\\n",
       "0  0.00632  18.0   2.31     0  0.538  6.575  65.2  4.0900    1  296     15.3   \n",
       "1  0.02731   0.0   7.07     0  0.469  6.421  78.9  4.9671    2  242     17.8   \n",
       "2  0.02729   0.0   7.07     0  0.469  7.185  61.1  4.9671    2  242     17.8   \n",
       "3  0.03237   0.0   2.18     0  0.458  6.998  45.8  6.0622    3  222     18.7   \n",
       "4  0.06905   0.0   2.18     0  0.458  7.147  54.2  6.0622    3  222     18.7   \n",
       "\n",
       "        b  lstat  medv  \n",
       "0  396.90   4.98  24.0  \n",
       "1  396.90   9.14  21.6  \n",
       "2  392.83   4.03  34.7  \n",
       "3  394.63   2.94  33.4  \n",
       "4  396.90   5.33  36.2  "
      ]
     },
     "execution_count": 102,
     "metadata": {},
     "output_type": "execute_result"
    }
   ],
   "source": [
    "import torch\n",
    "import pandas as pd\n",
    "from torch.utils.data import Dataset, DataLoader\n",
    "import matplotlib.pyplot as plt\n",
    "import seaborn as sns\n",
    "from sklearn.model_selection import train_test_split\n",
    "from sklearn.preprocessing import StandardScaler\n",
    "from sklearn.metrics import mean_squared_error, r2_score\n",
    "import numpy as np\n",
    "import torch.nn as nn\n",
    "import torch.optim as optim\n",
    "\n",
    "# Load dataset\n",
    "df = pd.read_csv(\"BostonHousing.csv\")\n",
    "\n",
    "# Check for missing values and drop if any\n",
    "if df.isna().sum().sum() > 0:\n",
    "    df = df.dropna()\n",
    "\n",
    "df.head()"
   ]
  },
  {
   "cell_type": "markdown",
   "id": "a98ce0d4",
   "metadata": {},
   "source": [
    "### Description:\n",
    "- Import necessary libraries.\n",
    "- Load Boston Housing dataset into a pandas DataFrame.\n",
    "- Check and remove missing values if present.\n",
    "- Display the first few rows of the dataset."
   ]
  },
  {
   "cell_type": "markdown",
   "id": "da6f7ee7",
   "metadata": {},
   "source": [
    "### Separate Features and Target Variable"
   ]
  },
  {
   "cell_type": "code",
   "execution_count": 103,
   "id": "889d056c",
   "metadata": {},
   "outputs": [],
   "source": [
    "# Separate features and targets\n",
    "X = df.drop(columns=['medv']).values\n",
    "y = df['medv'].values.reshape(-1, 1)\n"
   ]
  },
  {
   "cell_type": "markdown",
   "id": "914199ba",
   "metadata": {},
   "source": [
    "### Description:\n",
    "- Split the dataset into feature matrix `X` and target vector `y`.\n",
    "- `medv` (median house value) is the target variable."
   ]
  },
  {
   "cell_type": "markdown",
   "id": "c6a36906",
   "metadata": {},
   "source": [
    "### Split Data into Training and Testing Sets\n"
   ]
  },
  {
   "cell_type": "code",
   "execution_count": 104,
   "id": "607bd552",
   "metadata": {},
   "outputs": [],
   "source": [
    "from sklearn.model_selection import train_test_split\n",
    "\n",
    "X_train, X_test, y_train, y_test = train_test_split(\n",
    "    X, y, test_size=0.2, random_state=42\n",
    ")"
   ]
  },
  {
   "cell_type": "markdown",
   "id": "6ffa3f2c",
   "metadata": {},
   "source": [
    "### Description:\n",
    "- Split data into training (80%) and testing (20%) subsets.\n",
    "- The split is randomized but reproducible via `random_state=42`.\n"
   ]
  },
  {
   "cell_type": "code",
   "execution_count": 105,
   "id": "890695bb",
   "metadata": {},
   "outputs": [],
   "source": [
    "from sklearn.preprocessing import StandardScaler\n",
    "\n",
    "scaler = StandardScaler()\n",
    "X_train_scaled = scaler.fit_transform(X_train)\n",
    "X_test_scaled = scaler.transform(X_test)\n"
   ]
  },
  {
   "cell_type": "markdown",
   "id": "6f6d3404",
   "metadata": {},
   "source": [
    "### Description:\n",
    "- Scale input features to zero mean and unit variance using `StandardScaler`.\n",
    "- Helps in speeding up convergence during training.\n"
   ]
  },
  {
   "cell_type": "code",
   "execution_count": 106,
   "id": "72f44dc1",
   "metadata": {},
   "outputs": [],
   "source": [
    "X_train_tensor = torch.tensor(X_train_scaled, dtype=torch.float32)\n",
    "y_train_tensor = torch.tensor(y_train, dtype=torch.float32)\n",
    "X_test_tensor = torch.tensor(X_test_scaled, dtype=torch.float32)\n",
    "y_test_tensor = torch.tensor(y_test, dtype=torch.float32)\n"
   ]
  },
  {
   "cell_type": "markdown",
   "id": "8fac35dd",
   "metadata": {},
   "source": [
    "### Define Custom Dataset Class"
   ]
  },
  {
   "cell_type": "code",
   "execution_count": 107,
   "id": "dbe6dd0e",
   "metadata": {},
   "outputs": [],
   "source": [
    "from torch.utils.data import Dataset\n",
    "\n",
    "class BostonHousingDataset(Dataset):\n",
    "    def __init__(self, features, targets):\n",
    "        self.X = features\n",
    "        self.y = targets\n",
    "        \n",
    "    def __len__(self):\n",
    "        return self.X.shape[0]\n",
    "    \n",
    "    def __getitem__(self, idx):\n",
    "        return self.X[idx], self.y[idx]\n"
   ]
  },
  {
   "cell_type": "markdown",
   "id": "c3de259a",
   "metadata": {},
   "source": [
    "### Description:\n",
    "- Create a PyTorch `Dataset` class to manage feature-target pairs.\n",
    "- Provides methods for data length and fetching samples.\n"
   ]
  },
  {
   "cell_type": "markdown",
   "id": "43be9214",
   "metadata": {},
   "source": [
    "### Create Dataset and DataLoader Instances"
   ]
  },
  {
   "cell_type": "code",
   "execution_count": 108,
   "id": "f9849fb8",
   "metadata": {},
   "outputs": [
    {
     "name": "stdout",
     "output_type": "stream",
     "text": [
      "Train samples: 400, Test samples: 101\n",
      "Train batches: 25, Test batches: 7\n"
     ]
    }
   ],
   "source": [
    "train_dataset = BostonHousingDataset(X_train_tensor, y_train_tensor)\n",
    "test_dataset = BostonHousingDataset(X_test_tensor, y_test_tensor)\n",
    "\n",
    "BATCH_SIZE = 16\n",
    "\n",
    "train_loader = DataLoader(train_dataset, batch_size=BATCH_SIZE, shuffle=True)\n",
    "test_loader = DataLoader(test_dataset, batch_size=BATCH_SIZE, shuffle=False)\n",
    "\n",
    "print(f\"Train samples: {len(train_dataset)}, Test samples: {len(test_dataset)}\")\n",
    "print(f\"Train batches: {len(train_loader)}, Test batches: {len(test_loader)}\")\n"
   ]
  },
  {
   "cell_type": "markdown",
   "id": "2dd0ef1a",
   "metadata": {},
   "source": [
    "### Description:\n",
    "- Wrap datasets in DataLoaders with batching and shuffling for training.\n",
    "- Print dataset and batch sizes.\n"
   ]
  },
  {
   "cell_type": "markdown",
   "id": "b2aa997a",
   "metadata": {},
   "source": [
    "### Define Linear Regression Model\n"
   ]
  },
  {
   "cell_type": "code",
   "execution_count": 109,
   "id": "55f69d38",
   "metadata": {},
   "outputs": [
    {
     "name": "stdout",
     "output_type": "stream",
     "text": [
      "LinearRegressionModel(\n",
      "  (linear): Linear(in_features=13, out_features=1, bias=True)\n",
      ")\n"
     ]
    }
   ],
   "source": [
    "import torch.nn as nn\n",
    "\n",
    "class LinearRegressionModel(nn.Module):\n",
    "    def __init__(self):\n",
    "        super(LinearRegressionModel, self).__init__()\n",
    "        self.linear = nn.Linear(X_train_tensor.shape[1], 1)\n",
    "    \n",
    "    def forward(self, x):\n",
    "        return self.linear(x)\n",
    "\n",
    "model = LinearRegressionModel()\n",
    "print(model)\n"
   ]
  },
  {
   "cell_type": "markdown",
   "id": "61972f86",
   "metadata": {},
   "source": [
    "### Description:\n",
    "- Define a simple linear regression model using a single linear layer.\n",
    "- The number of inputs equals number of features, output is a scalar.\n"
   ]
  },
  {
   "cell_type": "markdown",
   "id": "4b62e26f",
   "metadata": {},
   "source": [
    "### Define Loss Function and Optimizer"
   ]
  },
  {
   "cell_type": "code",
   "execution_count": 110,
   "id": "4c3a0df6",
   "metadata": {},
   "outputs": [],
   "source": [
    "import torch.optim as optim\n",
    "\n",
    "loss_fn = nn.MSELoss()\n",
    "optimizer = optim.Adam(model.parameters(), lr=0.01)\n"
   ]
  },
  {
   "cell_type": "markdown",
   "id": "bbf7ae18",
   "metadata": {},
   "source": [
    "### Description:\n",
    "- Use mean squared error loss suited for regression.\n",
    "- Use Adam optimizer with learning rate 0.01.\n"
   ]
  },
  {
   "cell_type": "markdown",
   "id": "6fac2c70",
   "metadata": {},
   "source": [
    "### Training Loop"
   ]
  },
  {
   "cell_type": "code",
   "execution_count": 111,
   "id": "5b15c195",
   "metadata": {},
   "outputs": [
    {
     "name": "stdout",
     "output_type": "stream",
     "text": [
      "Epoch [1/100], Loss: 588.0019\n",
      "Epoch [10/100], Loss: 458.8901\n",
      "Epoch [20/100], Loss: 359.4353\n",
      "Epoch [30/100], Loss: 280.8370\n",
      "Epoch [40/100], Loss: 217.9511\n",
      "Epoch [50/100], Loss: 167.6094\n",
      "Epoch [60/100], Loss: 128.0451\n",
      "Epoch [70/100], Loss: 96.8705\n",
      "Epoch [80/100], Loss: 73.3380\n",
      "Epoch [90/100], Loss: 56.0348\n",
      "Epoch [100/100], Loss: 43.6767\n",
      "Training completed!\n"
     ]
    }
   ],
   "source": [
    "EPOCHS = 100\n",
    "\n",
    "for epoch in range(EPOCHS):\n",
    "    model.train()\n",
    "    total_loss = 0\n",
    "    \n",
    "    for features, targets in train_loader:\n",
    "        predictions = model(features)\n",
    "        loss = loss_fn(predictions, targets)\n",
    "        \n",
    "        optimizer.zero_grad()\n",
    "        loss.backward()\n",
    "        optimizer.step()\n",
    "        \n",
    "        total_loss += loss.item()\n",
    "    \n",
    "    avg_loss = total_loss / len(train_loader)\n",
    "    if (epoch + 1) % 10 == 0 or epoch == 0:\n",
    "        print(f\"Epoch [{epoch+1}/{EPOCHS}], Loss: {avg_loss:.4f}\")\n",
    "\n",
    "print(\"Training completed!\")\n"
   ]
  },
  {
   "cell_type": "markdown",
   "id": "82f4600d",
   "metadata": {},
   "source": [
    "### Description:\n",
    "- Train the model for 100 epochs.\n",
    "- Print average training loss every 10 epochs.\n"
   ]
  },
  {
   "cell_type": "markdown",
   "id": "119bffad",
   "metadata": {},
   "source": [
    "### Model Evaluation"
   ]
  },
  {
   "cell_type": "code",
   "execution_count": 112,
   "id": "bea34210",
   "metadata": {},
   "outputs": [
    {
     "name": "stdout",
     "output_type": "stream",
     "text": [
      "Test Mean Squared Error: 39.9232\n",
      "Test R² Score: 0.4597\n"
     ]
    }
   ],
   "source": [
    "model.eval()\n",
    "y_true, y_pred = [], []\n",
    "\n",
    "with torch.no_grad():\n",
    "    for features, targets in test_loader:\n",
    "        predictions = model(features)\n",
    "        y_true.extend(targets.cpu().numpy())\n",
    "        y_pred.extend(predictions.cpu().numpy())\n",
    "\n",
    "y_true = np.array(y_true).flatten()\n",
    "y_pred = np.array(y_pred).flatten()\n",
    "\n",
    "mse = mean_squared_error(y_true, y_pred)\n",
    "r2 = r2_score(y_true, y_pred)\n",
    "\n",
    "print(f\"Test Mean Squared Error: {mse:.4f}\")\n",
    "print(f\"Test R² Score: {r2:.4f}\")\n"
   ]
  },
  {
   "cell_type": "markdown",
   "id": "86ee3091",
   "metadata": {},
   "source": [
    "### Description:\n",
    "- Evaluate model predictions on the test set.\n",
    "- Calculate and print Mean Squared Error and R² Score.\n"
   ]
  },
  {
   "cell_type": "markdown",
   "id": "251eacff",
   "metadata": {},
   "source": [
    "### Conclusion\n",
    "\n",
    "This analysis successfully demonstrates how linear regression can be applied using PyTorch to predict median house values based on various housing features. The model captures the underlying relationships in the Boston Housing dataset by leveraging standardized input features and a simple yet effective neural network architecture. The training process, monitored through mean squared error loss, shows consistent convergence and good generalization as indicated by evaluation metrics on the test set.\n",
    "\n",
    "The results highlight that even a straightforward linear model, when properly implemented and trained, provides meaningful predictions and insights into housing prices. This approach serves as a practical foundation for more complex models if needed, while maintaining interpretability. Additionally, the preprocessing steps, including feature scaling and careful data handling, contribute critically to stable and reliable training.\n",
    "\n",
    "Overall, this project underscores the power of PyTorch for building and training regression models from raw data through end-to-end workflows, equipping practitioners to effectively tackle similar real-world predictive problems."
   ]
  }
 ],
 "metadata": {
  "kernelspec": {
   "display_name": "ai-ml-algorithms",
   "language": "python",
   "name": "python3"
  },
  "language_info": {
   "codemirror_mode": {
    "name": "ipython",
    "version": 3
   },
   "file_extension": ".py",
   "mimetype": "text/x-python",
   "name": "python",
   "nbconvert_exporter": "python",
   "pygments_lexer": "ipython3",
   "version": "3.11.9"
  }
 },
 "nbformat": 4,
 "nbformat_minor": 5
}
