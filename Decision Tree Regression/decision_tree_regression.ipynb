{
 "cells": [
  {
   "cell_type": "markdown",
   "id": "83748423",
   "metadata": {},
   "source": [
    "# Decision Regression Tree"
   ]
  },
  {
   "cell_type": "markdown",
   "id": "18929398",
   "metadata": {},
   "source": [
    "### Importing libraries\n",
    "\n",
    "We will start importing numpy, pandas, matplotlib and sklearn libraries. Pandas and numpy will be used for the deployment and calculations of the dataset, matplotlib for the visualization of graphs and sklearn for training the model using machine learning."
   ]
  },
  {
   "cell_type": "code",
   "execution_count": 1,
   "id": "b81b3386",
   "metadata": {},
   "outputs": [],
   "source": [
    "import numpy as np\n",
    "import pandas as pd\n",
    "import matplotlib.pyplot as plt\n",
    "from sklearn.model_selection import train_test_split\n",
    "from sklearn.preprocessing import StandardScaler\n",
    "from mpl_toolkits.mplot3d import Axes3D"
   ]
  },
  {
   "cell_type": "markdown",
   "id": "2bddd99f",
   "metadata": {},
   "source": [
    "### Loading the dataset"
   ]
  },
  {
   "cell_type": "code",
   "execution_count": 6,
   "id": "73c8a11e",
   "metadata": {},
   "outputs": [
    {
     "data": {
      "text/html": [
       "<div>\n",
       "<style scoped>\n",
       "    .dataframe tbody tr th:only-of-type {\n",
       "        vertical-align: middle;\n",
       "    }\n",
       "\n",
       "    .dataframe tbody tr th {\n",
       "        vertical-align: top;\n",
       "    }\n",
       "\n",
       "    .dataframe thead th {\n",
       "        text-align: right;\n",
       "    }\n",
       "</style>\n",
       "<table border=\"1\" class=\"dataframe\">\n",
       "  <thead>\n",
       "    <tr style=\"text-align: right;\">\n",
       "      <th></th>\n",
       "      <th>age</th>\n",
       "      <th>sex</th>\n",
       "      <th>bmi</th>\n",
       "      <th>children</th>\n",
       "      <th>smoker</th>\n",
       "      <th>region</th>\n",
       "      <th>charges</th>\n",
       "    </tr>\n",
       "  </thead>\n",
       "  <tbody>\n",
       "    <tr>\n",
       "      <th>0</th>\n",
       "      <td>19</td>\n",
       "      <td>female</td>\n",
       "      <td>27.900</td>\n",
       "      <td>0</td>\n",
       "      <td>yes</td>\n",
       "      <td>southwest</td>\n",
       "      <td>16884.92400</td>\n",
       "    </tr>\n",
       "    <tr>\n",
       "      <th>1</th>\n",
       "      <td>18</td>\n",
       "      <td>male</td>\n",
       "      <td>33.770</td>\n",
       "      <td>1</td>\n",
       "      <td>no</td>\n",
       "      <td>southeast</td>\n",
       "      <td>1725.55230</td>\n",
       "    </tr>\n",
       "    <tr>\n",
       "      <th>2</th>\n",
       "      <td>28</td>\n",
       "      <td>male</td>\n",
       "      <td>33.000</td>\n",
       "      <td>3</td>\n",
       "      <td>no</td>\n",
       "      <td>southeast</td>\n",
       "      <td>4449.46200</td>\n",
       "    </tr>\n",
       "    <tr>\n",
       "      <th>3</th>\n",
       "      <td>33</td>\n",
       "      <td>male</td>\n",
       "      <td>22.705</td>\n",
       "      <td>0</td>\n",
       "      <td>no</td>\n",
       "      <td>northwest</td>\n",
       "      <td>21984.47061</td>\n",
       "    </tr>\n",
       "    <tr>\n",
       "      <th>4</th>\n",
       "      <td>32</td>\n",
       "      <td>male</td>\n",
       "      <td>28.880</td>\n",
       "      <td>0</td>\n",
       "      <td>no</td>\n",
       "      <td>northwest</td>\n",
       "      <td>3866.85520</td>\n",
       "    </tr>\n",
       "  </tbody>\n",
       "</table>\n",
       "</div>"
      ],
      "text/plain": [
       "   age     sex     bmi  children smoker     region      charges\n",
       "0   19  female  27.900         0    yes  southwest  16884.92400\n",
       "1   18    male  33.770         1     no  southeast   1725.55230\n",
       "2   28    male  33.000         3     no  southeast   4449.46200\n",
       "3   33    male  22.705         0     no  northwest  21984.47061\n",
       "4   32    male  28.880         0     no  northwest   3866.85520"
      ]
     },
     "execution_count": 6,
     "metadata": {},
     "output_type": "execute_result"
    }
   ],
   "source": [
    "data = pd.read_csv(\"Medical_insurance.csv\")\n",
    "\n",
    "data.head()"
   ]
  },
  {
   "cell_type": "code",
   "execution_count": 7,
   "id": "69bd7f0a",
   "metadata": {},
   "outputs": [
    {
     "data": {
      "text/plain": [
       "age         0\n",
       "sex         0\n",
       "bmi         0\n",
       "children    0\n",
       "smoker      0\n",
       "region      0\n",
       "charges     0\n",
       "dtype: int64"
      ]
     },
     "execution_count": 7,
     "metadata": {},
     "output_type": "execute_result"
    }
   ],
   "source": [
    "data_missing = data.isnull().sum()\n",
    "data_missing"
   ]
  },
  {
   "cell_type": "code",
   "execution_count": 8,
   "id": "48980a8d",
   "metadata": {},
   "outputs": [
    {
     "data": {
      "text/plain": [
       "age           int64\n",
       "sex          object\n",
       "bmi         float64\n",
       "children      int64\n",
       "smoker       object\n",
       "region       object\n",
       "charges     float64\n",
       "dtype: object"
      ]
     },
     "execution_count": 8,
     "metadata": {},
     "output_type": "execute_result"
    }
   ],
   "source": [
    "data.dtypes"
   ]
  },
  {
   "cell_type": "markdown",
   "id": "01a4499e",
   "metadata": {},
   "source": [
    "### Data Preprocessing\n",
    "\n",
    "Convert categorical features: As we mentioned before when we loaded the dataset, this step is crucial since we can have columns (features) that are categorical like sex, smoker and region. Python doesn’t understand categories, it understands numbers so we will give it instructions to convert this into numbers"
   ]
  },
  {
   "cell_type": "code",
   "execution_count": 9,
   "id": "32d655fc",
   "metadata": {},
   "outputs": [
    {
     "name": "stdout",
     "output_type": "stream",
     "text": [
      "   age     bmi  children      charges  sex_male  smoker_yes  region_northwest  \\\n",
      "0   19  27.900         0  16884.92400     False        True             False   \n",
      "1   18  33.770         1   1725.55230      True       False             False   \n",
      "2   28  33.000         3   4449.46200      True       False             False   \n",
      "3   33  22.705         0  21984.47061      True       False              True   \n",
      "4   32  28.880         0   3866.85520      True       False              True   \n",
      "\n",
      "   region_southeast  region_southwest  \n",
      "0             False              True  \n",
      "1              True             False  \n",
      "2              True             False  \n",
      "3             False             False  \n",
      "4             False             False  \n"
     ]
    }
   ],
   "source": [
    "data =pd.get_dummies(data, columns =[\"sex\",\"smoker\",\"region\"], drop_first =True)\n",
    "print(data.head())"
   ]
  },
  {
   "cell_type": "markdown",
   "id": "b1225c28",
   "metadata": {},
   "source": [
    "The first block drops the column charges from the dataset because this is the target variable."
   ]
  },
  {
   "cell_type": "code",
   "execution_count": 10,
   "id": "1d8b22c3",
   "metadata": {},
   "outputs": [],
   "source": [
    "X =data.drop(columns=[\"charges\"])\n",
    "y =data[\"charges\"]"
   ]
  },
  {
   "cell_type": "markdown",
   "id": "8f48623e",
   "metadata": {},
   "source": [
    "### Split the data for train and test\n",
    " Now we are ready to separate train from test. I decided to separate 80% of the dataset for training and 20% for testing. This means that out of those 2772 entries you will have 2218 for training and 554 for testing. This is normally the recommended percentages to have a good result, but you can adjust it based on the results given."
   ]
  },
  {
   "cell_type": "code",
   "execution_count": 11,
   "id": "eb7b3107",
   "metadata": {},
   "outputs": [],
   "source": [
    "X_train,X_test,y_train,y_test =train_test_split(X,y,test_size=0.2, random_state=42)"
   ]
  },
  {
   "cell_type": "markdown",
   "id": "eb6bb40a",
   "metadata": {},
   "source": [
    "### Standardize numerical features\n",
    " Another step is scaling since there are features that can be represented in numbers that are very high (like the charges which can reach thousands of dollars) and other categories that can have very low numbers like the age (years old) or children."
   ]
  },
  {
   "cell_type": "code",
   "execution_count": 12,
   "id": "d6ba0418",
   "metadata": {},
   "outputs": [],
   "source": [
    "scaler = StandardScaler()\n",
    "X_train = scaler.fit_transform(X_train)\n",
    "X_test = scaler.transform(X_test)"
   ]
  },
  {
   "cell_type": "markdown",
   "id": "b45626c1",
   "metadata": {},
   "source": [
    "# Train the model"
   ]
  },
  {
   "cell_type": "code",
   "execution_count": 18,
   "id": "3972c230",
   "metadata": {},
   "outputs": [],
   "source": [
    "from sklearn.tree import DecisionTreeRegressor\n",
    "from sklearn.metrics import mean_absolute_error, mean_squared_error, r2_score\n",
    "\n",
    "tree_model = DecisionTreeRegressor()\n",
    "tree_model.fit(X_train, y_train)\n",
    "y_pred2 = tree_model.predict(X_test)"
   ]
  },
  {
   "cell_type": "code",
   "execution_count": 19,
   "id": "26bdde79",
   "metadata": {},
   "outputs": [
    {
     "name": "stdout",
     "output_type": "stream",
     "text": [
      "mean absolute error is: 603.9758176\n"
     ]
    }
   ],
   "source": [
    "mae= mean_absolute_error(y_test, y_pred2)\n",
    "print(f'mean absolute error is: {mae}')"
   ]
  },
  {
   "cell_type": "code",
   "execution_count": 20,
   "id": "dbe135ca",
   "metadata": {},
   "outputs": [
    {
     "data": {
      "text/plain": [
       "94.83169057239432"
      ]
     },
     "execution_count": 20,
     "metadata": {},
     "output_type": "execute_result"
    }
   ],
   "source": [
    "r2_score(y_test, y_pred2)*100 "
   ]
  },
  {
   "cell_type": "markdown",
   "id": "49d18eb5",
   "metadata": {},
   "source": [
    "### Making a new prediction\n",
    "\n",
    "Now that we have this model both trained and evaluated, and you want to make a new prediction for a patient based on these features. the patient, specifically has the following data:"
   ]
  },
  {
   "cell_type": "markdown",
   "id": "a3a0012c",
   "metadata": {},
   "source": [
    "We will create a new dataframe with this data and we will call it new_patient."
   ]
  },
  {
   "cell_type": "code",
   "execution_count": 21,
   "id": "e5b513fe",
   "metadata": {},
   "outputs": [
    {
     "data": {
      "text/html": [
       "<div>\n",
       "<style scoped>\n",
       "    .dataframe tbody tr th:only-of-type {\n",
       "        vertical-align: middle;\n",
       "    }\n",
       "\n",
       "    .dataframe tbody tr th {\n",
       "        vertical-align: top;\n",
       "    }\n",
       "\n",
       "    .dataframe thead th {\n",
       "        text-align: right;\n",
       "    }\n",
       "</style>\n",
       "<table border=\"1\" class=\"dataframe\">\n",
       "  <thead>\n",
       "    <tr style=\"text-align: right;\">\n",
       "      <th></th>\n",
       "      <th>age</th>\n",
       "      <th>sex</th>\n",
       "      <th>bmi</th>\n",
       "      <th>children</th>\n",
       "      <th>smoker</th>\n",
       "      <th>region</th>\n",
       "    </tr>\n",
       "  </thead>\n",
       "  <tbody>\n",
       "    <tr>\n",
       "      <th>0</th>\n",
       "      <td>38</td>\n",
       "      <td>male</td>\n",
       "      <td>22.5</td>\n",
       "      <td>0</td>\n",
       "      <td>no</td>\n",
       "      <td>southwest</td>\n",
       "    </tr>\n",
       "  </tbody>\n",
       "</table>\n",
       "</div>"
      ],
      "text/plain": [
       "   age   sex   bmi  children smoker     region\n",
       "0   38  male  22.5         0     no  southwest"
      ]
     },
     "execution_count": 21,
     "metadata": {},
     "output_type": "execute_result"
    }
   ],
   "source": [
    "new_patient = pd.DataFrame({\n",
    "    'age': [38],\n",
    "    'sex': ['male'],\n",
    "    'bmi': [22.500],  \n",
    "    'children': [0],\n",
    "    'smoker': ['no'],\n",
    "    'region':['southwest']\n",
    "})\n",
    "new_patient\n"
   ]
  },
  {
   "cell_type": "code",
   "execution_count": 22,
   "id": "a5e5d2ec",
   "metadata": {},
   "outputs": [
    {
     "data": {
      "text/html": [
       "<div>\n",
       "<style scoped>\n",
       "    .dataframe tbody tr th:only-of-type {\n",
       "        vertical-align: middle;\n",
       "    }\n",
       "\n",
       "    .dataframe tbody tr th {\n",
       "        vertical-align: top;\n",
       "    }\n",
       "\n",
       "    .dataframe thead th {\n",
       "        text-align: right;\n",
       "    }\n",
       "</style>\n",
       "<table border=\"1\" class=\"dataframe\">\n",
       "  <thead>\n",
       "    <tr style=\"text-align: right;\">\n",
       "      <th></th>\n",
       "      <th>age</th>\n",
       "      <th>bmi</th>\n",
       "      <th>children</th>\n",
       "      <th>sex_male</th>\n",
       "      <th>smoker_no</th>\n",
       "      <th>region_southwest</th>\n",
       "    </tr>\n",
       "  </thead>\n",
       "  <tbody>\n",
       "    <tr>\n",
       "      <th>0</th>\n",
       "      <td>38</td>\n",
       "      <td>22.5</td>\n",
       "      <td>0</td>\n",
       "      <td>True</td>\n",
       "      <td>True</td>\n",
       "      <td>True</td>\n",
       "    </tr>\n",
       "  </tbody>\n",
       "</table>\n",
       "</div>"
      ],
      "text/plain": [
       "   age   bmi  children  sex_male  smoker_no  region_southwest\n",
       "0   38  22.5         0      True       True              True"
      ]
     },
     "execution_count": 22,
     "metadata": {},
     "output_type": "execute_result"
    }
   ],
   "source": [
    "new_patient_encoded = pd.get_dummies(new_patient, columns =[\"sex\",\"smoker\",\"region\"])\n",
    "new_patient_encoded"
   ]
  },
  {
   "cell_type": "code",
   "execution_count": 30,
   "id": "59b2a340",
   "metadata": {},
   "outputs": [],
   "source": [
    "required_columns = ['age','bmi','children','sex_male','smoker_yes','region_northwest','region_southeast','region_southwest']\n",
    "for col in required_columns:\n",
    "    if col not in new_patient_encoded.columns:\n",
    "        new_patient_encoded[col] = 0\n"
   ]
  },
  {
   "cell_type": "code",
   "execution_count": null,
   "id": "08c7333e",
   "metadata": {},
   "outputs": [],
   "source": [
    "new_patient_encoded = new_patient_encoded[required_columns]"
   ]
  },
  {
   "cell_type": "code",
   "execution_count": 32,
   "id": "ad8f6ab1",
   "metadata": {},
   "outputs": [
    {
     "name": "stderr",
     "output_type": "stream",
     "text": [
      "c:\\Users\\use\\Desktop\\ML\\Projects\\AI-ML-Algorithms\\ai-ml-algorithms\\Lib\\site-packages\\sklearn\\base.py:458: UserWarning: X has feature names, but DecisionTreeRegressor was fitted without feature names\n",
      "  warnings.warn(\n"
     ]
    }
   ],
   "source": [
    "y_pred2 = tree_model.predict(new_patient_encoded)"
   ]
  }
 ],
 "metadata": {
  "kernelspec": {
   "display_name": "ai-ml-algorithms",
   "language": "python",
   "name": "python3"
  },
  "language_info": {
   "codemirror_mode": {
    "name": "ipython",
    "version": 3
   },
   "file_extension": ".py",
   "mimetype": "text/x-python",
   "name": "python",
   "nbconvert_exporter": "python",
   "pygments_lexer": "ipython3",
   "version": "3.11.9"
  }
 },
 "nbformat": 4,
 "nbformat_minor": 5
}
